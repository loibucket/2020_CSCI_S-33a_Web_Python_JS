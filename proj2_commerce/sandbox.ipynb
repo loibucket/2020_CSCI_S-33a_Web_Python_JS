{
 "cells": [
  {
   "cell_type": "code",
   "execution_count": 14,
   "metadata": {},
   "outputs": [
    {
     "name": "stdout",
     "output_type": "stream",
     "text": [
      "The sql extension is already loaded. To reload it, use:\n",
      "  %reload_ext sql\n"
     ]
    },
    {
     "data": {
      "text/plain": [
       "'Connected: @db.sqlite3'"
      ]
     },
     "execution_count": 14,
     "metadata": {},
     "output_type": "execute_result"
    }
   ],
   "source": [
    "%load_ext sql\n",
    "%sql sqlite:///db.sqlite3"
   ]
  },
  {
   "cell_type": "markdown",
   "metadata": {},
   "source": [
    "list all tables"
   ]
  },
  {
   "cell_type": "code",
   "execution_count": 20,
   "metadata": {},
   "outputs": [
    {
     "name": "stdout",
     "output_type": "stream",
     "text": [
      " * sqlite:///db.sqlite3\n",
      "Done.\n"
     ]
    },
    {
     "data": {
      "text/html": [
       "<table>\n",
       "    <tr>\n",
       "        <th>type</th>\n",
       "        <th>name</th>\n",
       "        <th>tbl_name</th>\n",
       "        <th>rootpage</th>\n",
       "        <th>sql</th>\n",
       "    </tr>\n",
       "    <tr>\n",
       "        <td>table</td>\n",
       "        <td>django_migrations</td>\n",
       "        <td>django_migrations</td>\n",
       "        <td>2</td>\n",
       "        <td>CREATE TABLE &quot;django_migrations&quot; (&quot;id&quot; integer NOT NULL PRIMARY KEY AUTOINCREMENT, &quot;app&quot; varchar(255) NOT NULL, &quot;name&quot; varchar(255) NOT NULL, &quot;applied&quot; datetime NOT NULL)</td>\n",
       "    </tr>\n",
       "    <tr>\n",
       "        <td>table</td>\n",
       "        <td>sqlite_sequence</td>\n",
       "        <td>sqlite_sequence</td>\n",
       "        <td>3</td>\n",
       "        <td>CREATE TABLE sqlite_sequence(name,seq)</td>\n",
       "    </tr>\n",
       "    <tr>\n",
       "        <td>table</td>\n",
       "        <td>django_content_type</td>\n",
       "        <td>django_content_type</td>\n",
       "        <td>5</td>\n",
       "        <td>CREATE TABLE &quot;django_content_type&quot; (&quot;id&quot; integer NOT NULL PRIMARY KEY AUTOINCREMENT, &quot;app_label&quot; varchar(100) NOT NULL, &quot;model&quot; varchar(100) NOT NULL)</td>\n",
       "    </tr>\n",
       "    <tr>\n",
       "        <td>table</td>\n",
       "        <td>auth_group_permissions</td>\n",
       "        <td>auth_group_permissions</td>\n",
       "        <td>9</td>\n",
       "        <td>CREATE TABLE &quot;auth_group_permissions&quot; (&quot;id&quot; integer NOT NULL PRIMARY KEY AUTOINCREMENT, &quot;group_id&quot; integer NOT NULL REFERENCES &quot;auth_group&quot; (&quot;id&quot;) DEFERRABLE INITIALLY DEFERRED, &quot;permission_id&quot; integer NOT NULL REFERENCES &quot;auth_permission&quot; (&quot;id&quot;) DEFERRABLE INITIALLY DEFERRED)</td>\n",
       "    </tr>\n",
       "    <tr>\n",
       "        <td>table</td>\n",
       "        <td>auth_permission</td>\n",
       "        <td>auth_permission</td>\n",
       "        <td>15</td>\n",
       "        <td>CREATE TABLE &quot;auth_permission&quot; (&quot;id&quot; integer NOT NULL PRIMARY KEY AUTOINCREMENT, &quot;content_type_id&quot; integer NOT NULL REFERENCES &quot;django_content_type&quot; (&quot;id&quot;) DEFERRABLE INITIALLY DEFERRED, &quot;codename&quot; varchar(100) NOT NULL, &quot;name&quot; varchar(255) NOT NULL)</td>\n",
       "    </tr>\n",
       "    <tr>\n",
       "        <td>table</td>\n",
       "        <td>auth_group</td>\n",
       "        <td>auth_group</td>\n",
       "        <td>11</td>\n",
       "        <td>CREATE TABLE &quot;auth_group&quot; (&quot;id&quot; integer NOT NULL PRIMARY KEY AUTOINCREMENT, &quot;name&quot; varchar(150) NOT NULL UNIQUE)</td>\n",
       "    </tr>\n",
       "    <tr>\n",
       "        <td>table</td>\n",
       "        <td>auctions_user</td>\n",
       "        <td>auctions_user</td>\n",
       "        <td>7</td>\n",
       "        <td>CREATE TABLE &quot;auctions_user&quot; (&quot;id&quot; integer NOT NULL PRIMARY KEY AUTOINCREMENT, &quot;password&quot; varchar(128) NOT NULL, &quot;last_login&quot; datetime NULL, &quot;is_superuser&quot; bool NOT NULL, &quot;username&quot; varchar(150) NOT NULL UNIQUE, &quot;first_name&quot; varchar(30) NOT NULL, &quot;last_name&quot; varchar(150) NOT NULL, &quot;email&quot; varchar(254) NOT NULL, &quot;is_staff&quot; bool NOT NULL, &quot;is_active&quot; bool NOT NULL, &quot;date_joined&quot; datetime NOT NULL)</td>\n",
       "    </tr>\n",
       "    <tr>\n",
       "        <td>table</td>\n",
       "        <td>auctions_user_groups</td>\n",
       "        <td>auctions_user_groups</td>\n",
       "        <td>17</td>\n",
       "        <td>CREATE TABLE &quot;auctions_user_groups&quot; (&quot;id&quot; integer NOT NULL PRIMARY KEY AUTOINCREMENT, &quot;user_id&quot; integer NOT NULL REFERENCES &quot;auctions_user&quot; (&quot;id&quot;) DEFERRABLE INITIALLY DEFERRED, &quot;group_id&quot; integer NOT NULL REFERENCES &quot;auth_group&quot; (&quot;id&quot;) DEFERRABLE INITIALLY DEFERRED)</td>\n",
       "    </tr>\n",
       "    <tr>\n",
       "        <td>table</td>\n",
       "        <td>auctions_user_user_permissions</td>\n",
       "        <td>auctions_user_user_permissions</td>\n",
       "        <td>18</td>\n",
       "        <td>CREATE TABLE &quot;auctions_user_user_permissions&quot; (&quot;id&quot; integer NOT NULL PRIMARY KEY AUTOINCREMENT, &quot;user_id&quot; integer NOT NULL REFERENCES &quot;auctions_user&quot; (&quot;id&quot;) DEFERRABLE INITIALLY DEFERRED, &quot;permission_id&quot; integer NOT NULL REFERENCES &quot;auth_permission&quot; (&quot;id&quot;) DEFERRABLE INITIALLY DEFERRED)</td>\n",
       "    </tr>\n",
       "    <tr>\n",
       "        <td>table</td>\n",
       "        <td>django_admin_log</td>\n",
       "        <td>django_admin_log</td>\n",
       "        <td>29</td>\n",
       "        <td>CREATE TABLE &quot;django_admin_log&quot; (&quot;id&quot; integer NOT NULL PRIMARY KEY AUTOINCREMENT, &quot;action_time&quot; datetime NOT NULL, &quot;object_id&quot; text NULL, &quot;object_repr&quot; varchar(200) NOT NULL, &quot;change_message&quot; text NOT NULL, &quot;content_type_id&quot; integer NULL REFERENCES &quot;django_content_type&quot; (&quot;id&quot;) DEFERRABLE INITIALLY DEFERRED, &quot;user_id&quot; integer NOT NULL REFERENCES &quot;auctions_user&quot; (&quot;id&quot;) DEFERRABLE INITIALLY DEFERRED, &quot;action_flag&quot; smallint unsigned NOT NULL CHECK (&quot;action_flag&quot; &gt;= 0))</td>\n",
       "    </tr>\n",
       "    <tr>\n",
       "        <td>table</td>\n",
       "        <td>django_session</td>\n",
       "        <td>django_session</td>\n",
       "        <td>30</td>\n",
       "        <td>CREATE TABLE &quot;django_session&quot; (&quot;session_key&quot; varchar(40) NOT NULL PRIMARY KEY, &quot;session_data&quot; text NOT NULL, &quot;expire_date&quot; datetime NOT NULL)</td>\n",
       "    </tr>\n",
       "    <tr>\n",
       "        <td>table</td>\n",
       "        <td>auctions_listing</td>\n",
       "        <td>auctions_listing</td>\n",
       "        <td>33</td>\n",
       "        <td>CREATE TABLE &quot;auctions_listing&quot; (&quot;auction_id&quot; integer NOT NULL PRIMARY KEY AUTOINCREMENT, &quot;title&quot; varchar(64) NOT NULL, &quot;description&quot; varchar(300) NOT NULL, &quot;image&quot; varchar(100) NOT NULL)</td>\n",
       "    </tr>\n",
       "    <tr>\n",
       "        <td>table</td>\n",
       "        <td>auctions_bid</td>\n",
       "        <td>auctions_bid</td>\n",
       "        <td>34</td>\n",
       "        <td>CREATE TABLE &quot;auctions_bid&quot; (&quot;auction_id&quot; integer NOT NULL PRIMARY KEY AUTOINCREMENT, &quot;start_bid&quot; decimal NOT NULL, &quot;curr_bid&quot; decimal NOT NULL, &quot;n_bids&quot; integer NOT NULL)</td>\n",
       "    </tr>\n",
       "    <tr>\n",
       "        <td>table</td>\n",
       "        <td>auctions_comment</td>\n",
       "        <td>auctions_comment</td>\n",
       "        <td>35</td>\n",
       "        <td>CREATE TABLE &quot;auctions_comment&quot; (&quot;auction_id&quot; integer NOT NULL PRIMARY KEY AUTOINCREMENT, &quot;comment&quot; varchar(300) NOT NULL)</td>\n",
       "    </tr>\n",
       "</table>"
      ],
      "text/plain": [
       "[('table', 'django_migrations', 'django_migrations', 2, 'CREATE TABLE \"django_migrations\" (\"id\" integer NOT NULL PRIMARY KEY AUTOINCREMENT, \"app\" varchar(255) NOT NULL, \"name\" varchar(255) NOT NULL, \"applied\" datetime NOT NULL)'),\n",
       " ('table', 'sqlite_sequence', 'sqlite_sequence', 3, 'CREATE TABLE sqlite_sequence(name,seq)'),\n",
       " ('table', 'django_content_type', 'django_content_type', 5, 'CREATE TABLE \"django_content_type\" (\"id\" integer NOT NULL PRIMARY KEY AUTOINCREMENT, \"app_label\" varchar(100) NOT NULL, \"model\" varchar(100) NOT NULL)'),\n",
       " ('table', 'auth_group_permissions', 'auth_group_permissions', 9, 'CREATE TABLE \"auth_group_permissions\" (\"id\" integer NOT NULL PRIMARY KEY AUTOINCREMENT, \"group_id\" integer NOT NULL REFERENCES \"auth_group\" (\"id\") DEFERRABLE INITIALLY DEFERRED, \"permission_id\" integer NOT NULL REFERENCES \"auth_permission\" (\"id\") DEFERRABLE INITIALLY DEFERRED)'),\n",
       " ('table', 'auth_permission', 'auth_permission', 15, 'CREATE TABLE \"auth_permission\" (\"id\" integer NOT NULL PRIMARY KEY AUTOINCREMENT, \"content_type_id\" integer NOT NULL REFERENCES \"django_content_type\" (\"id\") DEFERRABLE INITIALLY DEFERRED, \"codename\" varchar(100) NOT NULL, \"name\" varchar(255) NOT NULL)'),\n",
       " ('table', 'auth_group', 'auth_group', 11, 'CREATE TABLE \"auth_group\" (\"id\" integer NOT NULL PRIMARY KEY AUTOINCREMENT, \"name\" varchar(150) NOT NULL UNIQUE)'),\n",
       " ('table', 'auctions_user', 'auctions_user', 7, 'CREATE TABLE \"auctions_user\" (\"id\" integer NOT NULL PRIMARY KEY AUTOINCREMENT, \"password\" varchar(128) NOT NULL, \"last_login\" datetime NULL, \"is_supe ... (100 characters truncated) ... ast_name\" varchar(150) NOT NULL, \"email\" varchar(254) NOT NULL, \"is_staff\" bool NOT NULL, \"is_active\" bool NOT NULL, \"date_joined\" datetime NOT NULL)'),\n",
       " ('table', 'auctions_user_groups', 'auctions_user_groups', 17, 'CREATE TABLE \"auctions_user_groups\" (\"id\" integer NOT NULL PRIMARY KEY AUTOINCREMENT, \"user_id\" integer NOT NULL REFERENCES \"auctions_user\" (\"id\") DEFERRABLE INITIALLY DEFERRED, \"group_id\" integer NOT NULL REFERENCES \"auth_group\" (\"id\") DEFERRABLE INITIALLY DEFERRED)'),\n",
       " ('table', 'auctions_user_user_permissions', 'auctions_user_user_permissions', 18, 'CREATE TABLE \"auctions_user_user_permissions\" (\"id\" integer NOT NULL PRIMARY KEY AUTOINCREMENT, \"user_id\" integer NOT NULL REFERENCES \"auctions_user\" (\"id\") DEFERRABLE INITIALLY DEFERRED, \"permission_id\" integer NOT NULL REFERENCES \"auth_permission\" (\"id\") DEFERRABLE INITIALLY DEFERRED)'),\n",
       " ('table', 'django_admin_log', 'django_admin_log', 29, 'CREATE TABLE \"django_admin_log\" (\"id\" integer NOT NULL PRIMARY KEY AUTOINCREMENT, \"action_time\" datetime NOT NULL, \"object_id\" text NULL, \"object_rep ... (171 characters truncated) ... nteger NOT NULL REFERENCES \"auctions_user\" (\"id\") DEFERRABLE INITIALLY DEFERRED, \"action_flag\" smallint unsigned NOT NULL CHECK (\"action_flag\" >= 0))'),\n",
       " ('table', 'django_session', 'django_session', 30, 'CREATE TABLE \"django_session\" (\"session_key\" varchar(40) NOT NULL PRIMARY KEY, \"session_data\" text NOT NULL, \"expire_date\" datetime NOT NULL)'),\n",
       " ('table', 'auctions_listing', 'auctions_listing', 33, 'CREATE TABLE \"auctions_listing\" (\"auction_id\" integer NOT NULL PRIMARY KEY AUTOINCREMENT, \"title\" varchar(64) NOT NULL, \"description\" varchar(300) NOT NULL, \"image\" varchar(100) NOT NULL)'),\n",
       " ('table', 'auctions_bid', 'auctions_bid', 34, 'CREATE TABLE \"auctions_bid\" (\"auction_id\" integer NOT NULL PRIMARY KEY AUTOINCREMENT, \"start_bid\" decimal NOT NULL, \"curr_bid\" decimal NOT NULL, \"n_bids\" integer NOT NULL)'),\n",
       " ('table', 'auctions_comment', 'auctions_comment', 35, 'CREATE TABLE \"auctions_comment\" (\"auction_id\" integer NOT NULL PRIMARY KEY AUTOINCREMENT, \"comment\" varchar(300) NOT NULL)')]"
      ]
     },
     "execution_count": 20,
     "metadata": {},
     "output_type": "execute_result"
    }
   ],
   "source": [
    "%%sql\n",
    "SELECT * FROM sqlite_master where type='table'"
   ]
  },
  {
   "cell_type": "code",
   "execution_count": 26,
   "metadata": {},
   "outputs": [
    {
     "name": "stdout",
     "output_type": "stream",
     "text": [
      " * sqlite:///db.sqlite3\n",
      "Done.\n"
     ]
    },
    {
     "data": {
      "text/html": [
       "<table>\n",
       "    <tr>\n",
       "        <th>id</th>\n",
       "        <th>password</th>\n",
       "        <th>last_login</th>\n",
       "        <th>is_superuser</th>\n",
       "        <th>username</th>\n",
       "        <th>first_name</th>\n",
       "        <th>email</th>\n",
       "        <th>is_staff</th>\n",
       "        <th>is_active</th>\n",
       "        <th>date_joined</th>\n",
       "        <th>last_name</th>\n",
       "    </tr>\n",
       "    <tr>\n",
       "        <td>1</td>\n",
       "        <td>pbkdf2_sha256$180000$mu9izhyLT5OA$a4+5PtRboferWUi4Ll852Mhz10/zf65H6SV3Tr9UuqY=</td>\n",
       "        <td>2020-07-08 20:05:18.289049</td>\n",
       "        <td>0</td>\n",
       "        <td>brianyu</td>\n",
       "        <td></td>\n",
       "        <td>brian@cs.harvard.edu</td>\n",
       "        <td>0</td>\n",
       "        <td>1</td>\n",
       "        <td>2020-07-08 20:05:18.076774</td>\n",
       "        <td></td>\n",
       "    </tr>\n",
       "</table>"
      ],
      "text/plain": [
       "[(1, 'pbkdf2_sha256$180000$mu9izhyLT5OA$a4+5PtRboferWUi4Ll852Mhz10/zf65H6SV3Tr9UuqY=', '2020-07-08 20:05:18.289049', 0, 'brianyu', '', 'brian@cs.harvard.edu', 0, 1, '2020-07-08 20:05:18.076774', '')]"
      ]
     },
     "execution_count": 26,
     "metadata": {},
     "output_type": "execute_result"
    }
   ],
   "source": [
    "%%sql\n",
    "select * from auctions_user"
   ]
  },
  {
   "cell_type": "code",
   "execution_count": 28,
   "metadata": {},
   "outputs": [
    {
     "name": "stdout",
     "output_type": "stream",
     "text": [
      " * sqlite:///db.sqlite3\n",
      "Done.\n"
     ]
    },
    {
     "data": {
      "text/html": [
       "<table>\n",
       "    <tr>\n",
       "        <th>auction_id</th>\n",
       "        <th>start_bid</th>\n",
       "        <th>curr_bid</th>\n",
       "        <th>n_bids</th>\n",
       "    </tr>\n",
       "</table>"
      ],
      "text/plain": [
       "[]"
      ]
     },
     "execution_count": 28,
     "metadata": {},
     "output_type": "execute_result"
    }
   ],
   "source": [
    "%%sql\n",
    "select * from auctions_bid"
   ]
  },
  {
   "cell_type": "code",
   "execution_count": 30,
   "metadata": {},
   "outputs": [
    {
     "name": "stdout",
     "output_type": "stream",
     "text": [
      " * sqlite:///db.sqlite3\n",
      "Done.\n"
     ]
    },
    {
     "data": {
      "text/html": [
       "<table>\n",
       "    <tr>\n",
       "        <th>auction_id</th>\n",
       "        <th>comment</th>\n",
       "    </tr>\n",
       "</table>"
      ],
      "text/plain": [
       "[]"
      ]
     },
     "execution_count": 30,
     "metadata": {},
     "output_type": "execute_result"
    }
   ],
   "source": [
    "%%sql\n",
    "select * from auctions_comment"
   ]
  },
  {
   "cell_type": "code",
   "execution_count": null,
   "metadata": {},
   "outputs": [],
   "source": []
  }
 ],
 "metadata": {
  "kernelspec": {
   "display_name": "Python 3",
   "language": "python",
   "name": "python3"
  },
  "language_info": {
   "codemirror_mode": {
    "name": "ipython",
    "version": 3
   },
   "file_extension": ".py",
   "mimetype": "text/x-python",
   "name": "python",
   "nbconvert_exporter": "python",
   "pygments_lexer": "ipython3",
   "version": "3.7.6"
  }
 },
 "nbformat": 4,
 "nbformat_minor": 4
}
