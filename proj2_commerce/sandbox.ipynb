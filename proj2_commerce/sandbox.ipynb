{
 "cells": [
  {
   "cell_type": "code",
   "execution_count": 1,
   "metadata": {},
   "outputs": [
    {
     "data": {
      "text/plain": [
       "'/Users/loi/MEGA/Courses/2020_CSCI_S-33a_Web_Python_JS/proj2_commerce'"
      ]
     },
     "execution_count": 1,
     "metadata": {},
     "output_type": "execute_result"
    }
   ],
   "source": [
    "import os\n",
    "os.getcwd() "
   ]
  },
  {
   "cell_type": "code",
   "execution_count": 2,
   "metadata": {},
   "outputs": [
    {
     "data": {
      "text/plain": [
       "'Connected: @db.sqlite3'"
      ]
     },
     "execution_count": 2,
     "metadata": {},
     "output_type": "execute_result"
    }
   ],
   "source": [
    "%load_ext sql\n",
    "%sql sqlite:///db.sqlite3"
   ]
  },
  {
   "cell_type": "markdown",
   "metadata": {},
   "source": [
    "list all tables"
   ]
  },
  {
   "cell_type": "code",
   "execution_count": 3,
   "metadata": {
    "scrolled": false
   },
   "outputs": [
    {
     "name": "stdout",
     "output_type": "stream",
     "text": [
      " * sqlite:///db.sqlite3\n",
      "Done.\n"
     ]
    },
    {
     "data": {
      "text/html": [
       "<table>\n",
       "    <tr>\n",
       "        <th>type</th>\n",
       "        <th>name</th>\n",
       "        <th>tbl_name</th>\n",
       "        <th>rootpage</th>\n",
       "        <th>sql</th>\n",
       "    </tr>\n",
       "    <tr>\n",
       "        <td>table</td>\n",
       "        <td>django_migrations</td>\n",
       "        <td>django_migrations</td>\n",
       "        <td>2</td>\n",
       "        <td>CREATE TABLE &quot;django_migrations&quot; (&quot;id&quot; integer NOT NULL PRIMARY KEY AUTOINCREMENT, &quot;app&quot; varchar(255) NOT NULL, &quot;name&quot; varchar(255) NOT NULL, &quot;applied&quot; datetime NOT NULL)</td>\n",
       "    </tr>\n",
       "    <tr>\n",
       "        <td>table</td>\n",
       "        <td>sqlite_sequence</td>\n",
       "        <td>sqlite_sequence</td>\n",
       "        <td>3</td>\n",
       "        <td>CREATE TABLE sqlite_sequence(name,seq)</td>\n",
       "    </tr>\n",
       "    <tr>\n",
       "        <td>table</td>\n",
       "        <td>django_content_type</td>\n",
       "        <td>django_content_type</td>\n",
       "        <td>5</td>\n",
       "        <td>CREATE TABLE &quot;django_content_type&quot; (&quot;id&quot; integer NOT NULL PRIMARY KEY AUTOINCREMENT, &quot;app_label&quot; varchar(100) NOT NULL, &quot;model&quot; varchar(100) NOT NULL)</td>\n",
       "    </tr>\n",
       "    <tr>\n",
       "        <td>index</td>\n",
       "        <td>django_content_type_app_label_model_76bd3d3b_uniq</td>\n",
       "        <td>django_content_type</td>\n",
       "        <td>4</td>\n",
       "        <td>CREATE UNIQUE INDEX &quot;django_content_type_app_label_model_76bd3d3b_uniq&quot; ON &quot;django_content_type&quot; (&quot;app_label&quot;, &quot;model&quot;)</td>\n",
       "    </tr>\n",
       "    <tr>\n",
       "        <td>table</td>\n",
       "        <td>auth_group_permissions</td>\n",
       "        <td>auth_group_permissions</td>\n",
       "        <td>9</td>\n",
       "        <td>CREATE TABLE &quot;auth_group_permissions&quot; (&quot;id&quot; integer NOT NULL PRIMARY KEY AUTOINCREMENT, &quot;group_id&quot; integer NOT NULL REFERENCES &quot;auth_group&quot; (&quot;id&quot;) DEFERRABLE INITIALLY DEFERRED, &quot;permission_id&quot; integer NOT NULL REFERENCES &quot;auth_permission&quot; (&quot;id&quot;) DEFERRABLE INITIALLY DEFERRED)</td>\n",
       "    </tr>\n",
       "    <tr>\n",
       "        <td>index</td>\n",
       "        <td>auth_group_permissions_group_id_permission_id_0cd325b0_uniq</td>\n",
       "        <td>auth_group_permissions</td>\n",
       "        <td>12</td>\n",
       "        <td>CREATE UNIQUE INDEX &quot;auth_group_permissions_group_id_permission_id_0cd325b0_uniq&quot; ON &quot;auth_group_permissions&quot; (&quot;group_id&quot;, &quot;permission_id&quot;)</td>\n",
       "    </tr>\n",
       "    <tr>\n",
       "        <td>index</td>\n",
       "        <td>auth_group_permissions_group_id_b120cbf9</td>\n",
       "        <td>auth_group_permissions</td>\n",
       "        <td>13</td>\n",
       "        <td>CREATE INDEX &quot;auth_group_permissions_group_id_b120cbf9&quot; ON &quot;auth_group_permissions&quot; (&quot;group_id&quot;)</td>\n",
       "    </tr>\n",
       "    <tr>\n",
       "        <td>index</td>\n",
       "        <td>auth_group_permissions_permission_id_84c5c92e</td>\n",
       "        <td>auth_group_permissions</td>\n",
       "        <td>14</td>\n",
       "        <td>CREATE INDEX &quot;auth_group_permissions_permission_id_84c5c92e&quot; ON &quot;auth_group_permissions&quot; (&quot;permission_id&quot;)</td>\n",
       "    </tr>\n",
       "    <tr>\n",
       "        <td>table</td>\n",
       "        <td>auth_permission</td>\n",
       "        <td>auth_permission</td>\n",
       "        <td>15</td>\n",
       "        <td>CREATE TABLE &quot;auth_permission&quot; (&quot;id&quot; integer NOT NULL PRIMARY KEY AUTOINCREMENT, &quot;content_type_id&quot; integer NOT NULL REFERENCES &quot;django_content_type&quot; (&quot;id&quot;) DEFERRABLE INITIALLY DEFERRED, &quot;codename&quot; varchar(100) NOT NULL, &quot;name&quot; varchar(255) NOT NULL)</td>\n",
       "    </tr>\n",
       "    <tr>\n",
       "        <td>index</td>\n",
       "        <td>auth_permission_content_type_id_codename_01ab375a_uniq</td>\n",
       "        <td>auth_permission</td>\n",
       "        <td>6</td>\n",
       "        <td>CREATE UNIQUE INDEX &quot;auth_permission_content_type_id_codename_01ab375a_uniq&quot; ON &quot;auth_permission&quot; (&quot;content_type_id&quot;, &quot;codename&quot;)</td>\n",
       "    </tr>\n",
       "    <tr>\n",
       "        <td>index</td>\n",
       "        <td>auth_permission_content_type_id_2f476e4b</td>\n",
       "        <td>auth_permission</td>\n",
       "        <td>10</td>\n",
       "        <td>CREATE INDEX &quot;auth_permission_content_type_id_2f476e4b&quot; ON &quot;auth_permission&quot; (&quot;content_type_id&quot;)</td>\n",
       "    </tr>\n",
       "    <tr>\n",
       "        <td>table</td>\n",
       "        <td>auth_group</td>\n",
       "        <td>auth_group</td>\n",
       "        <td>11</td>\n",
       "        <td>CREATE TABLE &quot;auth_group&quot; (&quot;id&quot; integer NOT NULL PRIMARY KEY AUTOINCREMENT, &quot;name&quot; varchar(150) NOT NULL UNIQUE)</td>\n",
       "    </tr>\n",
       "    <tr>\n",
       "        <td>index</td>\n",
       "        <td>sqlite_autoindex_auth_group_1</td>\n",
       "        <td>auth_group</td>\n",
       "        <td>16</td>\n",
       "        <td>None</td>\n",
       "    </tr>\n",
       "    <tr>\n",
       "        <td>table</td>\n",
       "        <td>auctions_user</td>\n",
       "        <td>auctions_user</td>\n",
       "        <td>7</td>\n",
       "        <td>CREATE TABLE &quot;auctions_user&quot; (&quot;id&quot; integer NOT NULL PRIMARY KEY AUTOINCREMENT, &quot;password&quot; varchar(128) NOT NULL, &quot;last_login&quot; datetime NULL, &quot;is_superuser&quot; bool NOT NULL, &quot;username&quot; varchar(150) NOT NULL UNIQUE, &quot;first_name&quot; varchar(30) NOT NULL, &quot;last_name&quot; varchar(150) NOT NULL, &quot;email&quot; varchar(254) NOT NULL, &quot;is_staff&quot; bool NOT NULL, &quot;is_active&quot; bool NOT NULL, &quot;date_joined&quot; datetime NOT NULL)</td>\n",
       "    </tr>\n",
       "    <tr>\n",
       "        <td>index</td>\n",
       "        <td>sqlite_autoindex_auctions_user_1</td>\n",
       "        <td>auctions_user</td>\n",
       "        <td>8</td>\n",
       "        <td>None</td>\n",
       "    </tr>\n",
       "    <tr>\n",
       "        <td>table</td>\n",
       "        <td>auctions_user_groups</td>\n",
       "        <td>auctions_user_groups</td>\n",
       "        <td>17</td>\n",
       "        <td>CREATE TABLE &quot;auctions_user_groups&quot; (&quot;id&quot; integer NOT NULL PRIMARY KEY AUTOINCREMENT, &quot;user_id&quot; integer NOT NULL REFERENCES &quot;auctions_user&quot; (&quot;id&quot;) DEFERRABLE INITIALLY DEFERRED, &quot;group_id&quot; integer NOT NULL REFERENCES &quot;auth_group&quot; (&quot;id&quot;) DEFERRABLE INITIALLY DEFERRED)</td>\n",
       "    </tr>\n",
       "    <tr>\n",
       "        <td>table</td>\n",
       "        <td>auctions_user_user_permissions</td>\n",
       "        <td>auctions_user_user_permissions</td>\n",
       "        <td>18</td>\n",
       "        <td>CREATE TABLE &quot;auctions_user_user_permissions&quot; (&quot;id&quot; integer NOT NULL PRIMARY KEY AUTOINCREMENT, &quot;user_id&quot; integer NOT NULL REFERENCES &quot;auctions_user&quot; (&quot;id&quot;) DEFERRABLE INITIALLY DEFERRED, &quot;permission_id&quot; integer NOT NULL REFERENCES &quot;auth_permission&quot; (&quot;id&quot;) DEFERRABLE INITIALLY DEFERRED)</td>\n",
       "    </tr>\n",
       "    <tr>\n",
       "        <td>table</td>\n",
       "        <td>auctions_listing</td>\n",
       "        <td>auctions_listing</td>\n",
       "        <td>19</td>\n",
       "        <td>CREATE TABLE &quot;auctions_listing&quot; (&quot;id&quot; integer NOT NULL PRIMARY KEY AUTOINCREMENT, &quot;title&quot; varchar(64) NOT NULL, &quot;description&quot; varchar(9000) NOT NULL, &quot;image_url&quot; varchar(900) NOT NULL, &quot;is_active&quot; bool NOT NULL, &quot;starting_bid&quot; decimal NOT NULL, &quot;current_bid&quot; decimal NOT NULL, &quot;seller_id&quot; integer NOT NULL REFERENCES &quot;auctions_user&quot; (&quot;id&quot;) DEFERRABLE INITIALLY DEFERRED)</td>\n",
       "    </tr>\n",
       "    <tr>\n",
       "        <td>table</td>\n",
       "        <td>auctions_comment</td>\n",
       "        <td>auctions_comment</td>\n",
       "        <td>22</td>\n",
       "        <td>CREATE TABLE &quot;auctions_comment&quot; (&quot;id&quot; integer NOT NULL PRIMARY KEY AUTOINCREMENT, &quot;comment&quot; varchar(9000) NOT NULL, &quot;commenter_id&quot; integer NOT NULL REFERENCES &quot;auctions_user&quot; (&quot;id&quot;) DEFERRABLE INITIALLY DEFERRED, &quot;item_number_id&quot; integer NOT NULL REFERENCES &quot;auctions_listing&quot; (&quot;id&quot;) DEFERRABLE INITIALLY DEFERRED)</td>\n",
       "    </tr>\n",
       "    <tr>\n",
       "        <td>table</td>\n",
       "        <td>auctions_bid</td>\n",
       "        <td>auctions_bid</td>\n",
       "        <td>23</td>\n",
       "        <td>CREATE TABLE &quot;auctions_bid&quot; (&quot;id&quot; integer NOT NULL PRIMARY KEY AUTOINCREMENT, &quot;bid_amount&quot; decimal NOT NULL, &quot;n_bids&quot; integer NOT NULL, &quot;bidder_id&quot; integer NOT NULL REFERENCES &quot;auctions_user&quot; (&quot;id&quot;) DEFERRABLE INITIALLY DEFERRED, &quot;item_number_id&quot; integer NOT NULL REFERENCES &quot;auctions_listing&quot; (&quot;id&quot;) DEFERRABLE INITIALLY DEFERRED)</td>\n",
       "    </tr>\n",
       "    <tr>\n",
       "        <td>index</td>\n",
       "        <td>auctions_user_groups_user_id_group_id_1f941809_uniq</td>\n",
       "        <td>auctions_user_groups</td>\n",
       "        <td>24</td>\n",
       "        <td>CREATE UNIQUE INDEX &quot;auctions_user_groups_user_id_group_id_1f941809_uniq&quot; ON &quot;auctions_user_groups&quot; (&quot;user_id&quot;, &quot;group_id&quot;)</td>\n",
       "    </tr>\n",
       "    <tr>\n",
       "        <td>index</td>\n",
       "        <td>auctions_user_groups_user_id_cdaa1ab3</td>\n",
       "        <td>auctions_user_groups</td>\n",
       "        <td>25</td>\n",
       "        <td>CREATE INDEX &quot;auctions_user_groups_user_id_cdaa1ab3&quot; ON &quot;auctions_user_groups&quot; (&quot;user_id&quot;)</td>\n",
       "    </tr>\n",
       "    <tr>\n",
       "        <td>index</td>\n",
       "        <td>auctions_user_groups_group_id_beef25ba</td>\n",
       "        <td>auctions_user_groups</td>\n",
       "        <td>26</td>\n",
       "        <td>CREATE INDEX &quot;auctions_user_groups_group_id_beef25ba&quot; ON &quot;auctions_user_groups&quot; (&quot;group_id&quot;)</td>\n",
       "    </tr>\n",
       "    <tr>\n",
       "        <td>index</td>\n",
       "        <td>auctions_user_user_permissions_user_id_permission_id_f092bc2e_uniq</td>\n",
       "        <td>auctions_user_user_permissions</td>\n",
       "        <td>27</td>\n",
       "        <td>CREATE UNIQUE INDEX &quot;auctions_user_user_permissions_user_id_permission_id_f092bc2e_uniq&quot; ON &quot;auctions_user_user_permissions&quot; (&quot;user_id&quot;, &quot;permission_id&quot;)</td>\n",
       "    </tr>\n",
       "    <tr>\n",
       "        <td>index</td>\n",
       "        <td>auctions_user_user_permissions_user_id_fec24fe0</td>\n",
       "        <td>auctions_user_user_permissions</td>\n",
       "        <td>28</td>\n",
       "        <td>CREATE INDEX &quot;auctions_user_user_permissions_user_id_fec24fe0&quot; ON &quot;auctions_user_user_permissions&quot; (&quot;user_id&quot;)</td>\n",
       "    </tr>\n",
       "    <tr>\n",
       "        <td>index</td>\n",
       "        <td>auctions_user_user_permissions_permission_id_6cab40d7</td>\n",
       "        <td>auctions_user_user_permissions</td>\n",
       "        <td>29</td>\n",
       "        <td>CREATE INDEX &quot;auctions_user_user_permissions_permission_id_6cab40d7&quot; ON &quot;auctions_user_user_permissions&quot; (&quot;permission_id&quot;)</td>\n",
       "    </tr>\n",
       "    <tr>\n",
       "        <td>index</td>\n",
       "        <td>auctions_listing_seller_id_4fb0ef74</td>\n",
       "        <td>auctions_listing</td>\n",
       "        <td>30</td>\n",
       "        <td>CREATE INDEX &quot;auctions_listing_seller_id_4fb0ef74&quot; ON &quot;auctions_listing&quot; (&quot;seller_id&quot;)</td>\n",
       "    </tr>\n",
       "    <tr>\n",
       "        <td>index</td>\n",
       "        <td>auctions_comment_commenter_id_3cbcf958</td>\n",
       "        <td>auctions_comment</td>\n",
       "        <td>31</td>\n",
       "        <td>CREATE INDEX &quot;auctions_comment_commenter_id_3cbcf958&quot; ON &quot;auctions_comment&quot; (&quot;commenter_id&quot;)</td>\n",
       "    </tr>\n",
       "    <tr>\n",
       "        <td>index</td>\n",
       "        <td>auctions_comment_item_number_id_7a8a89c9</td>\n",
       "        <td>auctions_comment</td>\n",
       "        <td>32</td>\n",
       "        <td>CREATE INDEX &quot;auctions_comment_item_number_id_7a8a89c9&quot; ON &quot;auctions_comment&quot; (&quot;item_number_id&quot;)</td>\n",
       "    </tr>\n",
       "    <tr>\n",
       "        <td>index</td>\n",
       "        <td>auctions_bid_bidder_id_caac8a93</td>\n",
       "        <td>auctions_bid</td>\n",
       "        <td>33</td>\n",
       "        <td>CREATE INDEX &quot;auctions_bid_bidder_id_caac8a93&quot; ON &quot;auctions_bid&quot; (&quot;bidder_id&quot;)</td>\n",
       "    </tr>\n",
       "    <tr>\n",
       "        <td>index</td>\n",
       "        <td>auctions_bid_item_number_id_7213ced3</td>\n",
       "        <td>auctions_bid</td>\n",
       "        <td>34</td>\n",
       "        <td>CREATE INDEX &quot;auctions_bid_item_number_id_7213ced3&quot; ON &quot;auctions_bid&quot; (&quot;item_number_id&quot;)</td>\n",
       "    </tr>\n",
       "    <tr>\n",
       "        <td>table</td>\n",
       "        <td>django_admin_log</td>\n",
       "        <td>django_admin_log</td>\n",
       "        <td>37</td>\n",
       "        <td>CREATE TABLE &quot;django_admin_log&quot; (&quot;id&quot; integer NOT NULL PRIMARY KEY AUTOINCREMENT, &quot;action_time&quot; datetime NOT NULL, &quot;object_id&quot; text NULL, &quot;object_repr&quot; varchar(200) NOT NULL, &quot;change_message&quot; text NOT NULL, &quot;content_type_id&quot; integer NULL REFERENCES &quot;django_content_type&quot; (&quot;id&quot;) DEFERRABLE INITIALLY DEFERRED, &quot;user_id&quot; integer NOT NULL REFERENCES &quot;auctions_user&quot; (&quot;id&quot;) DEFERRABLE INITIALLY DEFERRED, &quot;action_flag&quot; smallint unsigned NOT NULL CHECK (&quot;action_flag&quot; &gt;= 0))</td>\n",
       "    </tr>\n",
       "    <tr>\n",
       "        <td>index</td>\n",
       "        <td>django_admin_log_content_type_id_c4bce8eb</td>\n",
       "        <td>django_admin_log</td>\n",
       "        <td>35</td>\n",
       "        <td>CREATE INDEX &quot;django_admin_log_content_type_id_c4bce8eb&quot; ON &quot;django_admin_log&quot; (&quot;content_type_id&quot;)</td>\n",
       "    </tr>\n",
       "    <tr>\n",
       "        <td>index</td>\n",
       "        <td>django_admin_log_user_id_c564eba6</td>\n",
       "        <td>django_admin_log</td>\n",
       "        <td>36</td>\n",
       "        <td>CREATE INDEX &quot;django_admin_log_user_id_c564eba6&quot; ON &quot;django_admin_log&quot; (&quot;user_id&quot;)</td>\n",
       "    </tr>\n",
       "    <tr>\n",
       "        <td>table</td>\n",
       "        <td>django_session</td>\n",
       "        <td>django_session</td>\n",
       "        <td>38</td>\n",
       "        <td>CREATE TABLE &quot;django_session&quot; (&quot;session_key&quot; varchar(40) NOT NULL PRIMARY KEY, &quot;session_data&quot; text NOT NULL, &quot;expire_date&quot; datetime NOT NULL)</td>\n",
       "    </tr>\n",
       "    <tr>\n",
       "        <td>index</td>\n",
       "        <td>sqlite_autoindex_django_session_1</td>\n",
       "        <td>django_session</td>\n",
       "        <td>39</td>\n",
       "        <td>None</td>\n",
       "    </tr>\n",
       "    <tr>\n",
       "        <td>index</td>\n",
       "        <td>django_session_expire_date_a5c62663</td>\n",
       "        <td>django_session</td>\n",
       "        <td>41</td>\n",
       "        <td>CREATE INDEX &quot;django_session_expire_date_a5c62663&quot; ON &quot;django_session&quot; (&quot;expire_date&quot;)</td>\n",
       "    </tr>\n",
       "</table>"
      ],
      "text/plain": [
       "[('table', 'django_migrations', 'django_migrations', 2, 'CREATE TABLE \"django_migrations\" (\"id\" integer NOT NULL PRIMARY KEY AUTOINCREMENT, \"app\" varchar(255) NOT NULL, \"name\" varchar(255) NOT NULL, \"applied\" datetime NOT NULL)'),\n",
       " ('table', 'sqlite_sequence', 'sqlite_sequence', 3, 'CREATE TABLE sqlite_sequence(name,seq)'),\n",
       " ('table', 'django_content_type', 'django_content_type', 5, 'CREATE TABLE \"django_content_type\" (\"id\" integer NOT NULL PRIMARY KEY AUTOINCREMENT, \"app_label\" varchar(100) NOT NULL, \"model\" varchar(100) NOT NULL)'),\n",
       " ('index', 'django_content_type_app_label_model_76bd3d3b_uniq', 'django_content_type', 4, 'CREATE UNIQUE INDEX \"django_content_type_app_label_model_76bd3d3b_uniq\" ON \"django_content_type\" (\"app_label\", \"model\")'),\n",
       " ('table', 'auth_group_permissions', 'auth_group_permissions', 9, 'CREATE TABLE \"auth_group_permissions\" (\"id\" integer NOT NULL PRIMARY KEY AUTOINCREMENT, \"group_id\" integer NOT NULL REFERENCES \"auth_group\" (\"id\") DEFERRABLE INITIALLY DEFERRED, \"permission_id\" integer NOT NULL REFERENCES \"auth_permission\" (\"id\") DEFERRABLE INITIALLY DEFERRED)'),\n",
       " ('index', 'auth_group_permissions_group_id_permission_id_0cd325b0_uniq', 'auth_group_permissions', 12, 'CREATE UNIQUE INDEX \"auth_group_permissions_group_id_permission_id_0cd325b0_uniq\" ON \"auth_group_permissions\" (\"group_id\", \"permission_id\")'),\n",
       " ('index', 'auth_group_permissions_group_id_b120cbf9', 'auth_group_permissions', 13, 'CREATE INDEX \"auth_group_permissions_group_id_b120cbf9\" ON \"auth_group_permissions\" (\"group_id\")'),\n",
       " ('index', 'auth_group_permissions_permission_id_84c5c92e', 'auth_group_permissions', 14, 'CREATE INDEX \"auth_group_permissions_permission_id_84c5c92e\" ON \"auth_group_permissions\" (\"permission_id\")'),\n",
       " ('table', 'auth_permission', 'auth_permission', 15, 'CREATE TABLE \"auth_permission\" (\"id\" integer NOT NULL PRIMARY KEY AUTOINCREMENT, \"content_type_id\" integer NOT NULL REFERENCES \"django_content_type\" (\"id\") DEFERRABLE INITIALLY DEFERRED, \"codename\" varchar(100) NOT NULL, \"name\" varchar(255) NOT NULL)'),\n",
       " ('index', 'auth_permission_content_type_id_codename_01ab375a_uniq', 'auth_permission', 6, 'CREATE UNIQUE INDEX \"auth_permission_content_type_id_codename_01ab375a_uniq\" ON \"auth_permission\" (\"content_type_id\", \"codename\")'),\n",
       " ('index', 'auth_permission_content_type_id_2f476e4b', 'auth_permission', 10, 'CREATE INDEX \"auth_permission_content_type_id_2f476e4b\" ON \"auth_permission\" (\"content_type_id\")'),\n",
       " ('table', 'auth_group', 'auth_group', 11, 'CREATE TABLE \"auth_group\" (\"id\" integer NOT NULL PRIMARY KEY AUTOINCREMENT, \"name\" varchar(150) NOT NULL UNIQUE)'),\n",
       " ('index', 'sqlite_autoindex_auth_group_1', 'auth_group', 16, None),\n",
       " ('table', 'auctions_user', 'auctions_user', 7, 'CREATE TABLE \"auctions_user\" (\"id\" integer NOT NULL PRIMARY KEY AUTOINCREMENT, \"password\" varchar(128) NOT NULL, \"last_login\" datetime NULL, \"is_supe ... (100 characters truncated) ... ast_name\" varchar(150) NOT NULL, \"email\" varchar(254) NOT NULL, \"is_staff\" bool NOT NULL, \"is_active\" bool NOT NULL, \"date_joined\" datetime NOT NULL)'),\n",
       " ('index', 'sqlite_autoindex_auctions_user_1', 'auctions_user', 8, None),\n",
       " ('table', 'auctions_user_groups', 'auctions_user_groups', 17, 'CREATE TABLE \"auctions_user_groups\" (\"id\" integer NOT NULL PRIMARY KEY AUTOINCREMENT, \"user_id\" integer NOT NULL REFERENCES \"auctions_user\" (\"id\") DEFERRABLE INITIALLY DEFERRED, \"group_id\" integer NOT NULL REFERENCES \"auth_group\" (\"id\") DEFERRABLE INITIALLY DEFERRED)'),\n",
       " ('table', 'auctions_user_user_permissions', 'auctions_user_user_permissions', 18, 'CREATE TABLE \"auctions_user_user_permissions\" (\"id\" integer NOT NULL PRIMARY KEY AUTOINCREMENT, \"user_id\" integer NOT NULL REFERENCES \"auctions_user\" (\"id\") DEFERRABLE INITIALLY DEFERRED, \"permission_id\" integer NOT NULL REFERENCES \"auth_permission\" (\"id\") DEFERRABLE INITIALLY DEFERRED)'),\n",
       " ('table', 'auctions_listing', 'auctions_listing', 19, 'CREATE TABLE \"auctions_listing\" (\"id\" integer NOT NULL PRIMARY KEY AUTOINCREMENT, \"title\" varchar(64) NOT NULL, \"description\" varchar(9000) NOT NULL, ... (72 characters truncated) ... _bid\" decimal NOT NULL, \"current_bid\" decimal NOT NULL, \"seller_id\" integer NOT NULL REFERENCES \"auctions_user\" (\"id\") DEFERRABLE INITIALLY DEFERRED)'),\n",
       " ('table', 'auctions_comment', 'auctions_comment', 22, 'CREATE TABLE \"auctions_comment\" (\"id\" integer NOT NULL PRIMARY KEY AUTOINCREMENT, \"comment\" varchar(9000) NOT NULL, \"commenter_id\" integer NOT NULL R ... (16 characters truncated) ... ons_user\" (\"id\") DEFERRABLE INITIALLY DEFERRED, \"item_number_id\" integer NOT NULL REFERENCES \"auctions_listing\" (\"id\") DEFERRABLE INITIALLY DEFERRED)'),\n",
       " ('table', 'auctions_bid', 'auctions_bid', 23, 'CREATE TABLE \"auctions_bid\" (\"id\" integer NOT NULL PRIMARY KEY AUTOINCREMENT, \"bid_amount\" decimal NOT NULL, \"n_bids\" integer NOT NULL, \"bidder_id\" i ... (33 characters truncated) ... ons_user\" (\"id\") DEFERRABLE INITIALLY DEFERRED, \"item_number_id\" integer NOT NULL REFERENCES \"auctions_listing\" (\"id\") DEFERRABLE INITIALLY DEFERRED)'),\n",
       " ('index', 'auctions_user_groups_user_id_group_id_1f941809_uniq', 'auctions_user_groups', 24, 'CREATE UNIQUE INDEX \"auctions_user_groups_user_id_group_id_1f941809_uniq\" ON \"auctions_user_groups\" (\"user_id\", \"group_id\")'),\n",
       " ('index', 'auctions_user_groups_user_id_cdaa1ab3', 'auctions_user_groups', 25, 'CREATE INDEX \"auctions_user_groups_user_id_cdaa1ab3\" ON \"auctions_user_groups\" (\"user_id\")'),\n",
       " ('index', 'auctions_user_groups_group_id_beef25ba', 'auctions_user_groups', 26, 'CREATE INDEX \"auctions_user_groups_group_id_beef25ba\" ON \"auctions_user_groups\" (\"group_id\")'),\n",
       " ('index', 'auctions_user_user_permissions_user_id_permission_id_f092bc2e_uniq', 'auctions_user_user_permissions', 27, 'CREATE UNIQUE INDEX \"auctions_user_user_permissions_user_id_permission_id_f092bc2e_uniq\" ON \"auctions_user_user_permissions\" (\"user_id\", \"permission_id\")'),\n",
       " ('index', 'auctions_user_user_permissions_user_id_fec24fe0', 'auctions_user_user_permissions', 28, 'CREATE INDEX \"auctions_user_user_permissions_user_id_fec24fe0\" ON \"auctions_user_user_permissions\" (\"user_id\")'),\n",
       " ('index', 'auctions_user_user_permissions_permission_id_6cab40d7', 'auctions_user_user_permissions', 29, 'CREATE INDEX \"auctions_user_user_permissions_permission_id_6cab40d7\" ON \"auctions_user_user_permissions\" (\"permission_id\")'),\n",
       " ('index', 'auctions_listing_seller_id_4fb0ef74', 'auctions_listing', 30, 'CREATE INDEX \"auctions_listing_seller_id_4fb0ef74\" ON \"auctions_listing\" (\"seller_id\")'),\n",
       " ('index', 'auctions_comment_commenter_id_3cbcf958', 'auctions_comment', 31, 'CREATE INDEX \"auctions_comment_commenter_id_3cbcf958\" ON \"auctions_comment\" (\"commenter_id\")'),\n",
       " ('index', 'auctions_comment_item_number_id_7a8a89c9', 'auctions_comment', 32, 'CREATE INDEX \"auctions_comment_item_number_id_7a8a89c9\" ON \"auctions_comment\" (\"item_number_id\")'),\n",
       " ('index', 'auctions_bid_bidder_id_caac8a93', 'auctions_bid', 33, 'CREATE INDEX \"auctions_bid_bidder_id_caac8a93\" ON \"auctions_bid\" (\"bidder_id\")'),\n",
       " ('index', 'auctions_bid_item_number_id_7213ced3', 'auctions_bid', 34, 'CREATE INDEX \"auctions_bid_item_number_id_7213ced3\" ON \"auctions_bid\" (\"item_number_id\")'),\n",
       " ('table', 'django_admin_log', 'django_admin_log', 37, 'CREATE TABLE \"django_admin_log\" (\"id\" integer NOT NULL PRIMARY KEY AUTOINCREMENT, \"action_time\" datetime NOT NULL, \"object_id\" text NULL, \"object_rep ... (171 characters truncated) ... nteger NOT NULL REFERENCES \"auctions_user\" (\"id\") DEFERRABLE INITIALLY DEFERRED, \"action_flag\" smallint unsigned NOT NULL CHECK (\"action_flag\" >= 0))'),\n",
       " ('index', 'django_admin_log_content_type_id_c4bce8eb', 'django_admin_log', 35, 'CREATE INDEX \"django_admin_log_content_type_id_c4bce8eb\" ON \"django_admin_log\" (\"content_type_id\")'),\n",
       " ('index', 'django_admin_log_user_id_c564eba6', 'django_admin_log', 36, 'CREATE INDEX \"django_admin_log_user_id_c564eba6\" ON \"django_admin_log\" (\"user_id\")'),\n",
       " ('table', 'django_session', 'django_session', 38, 'CREATE TABLE \"django_session\" (\"session_key\" varchar(40) NOT NULL PRIMARY KEY, \"session_data\" text NOT NULL, \"expire_date\" datetime NOT NULL)'),\n",
       " ('index', 'sqlite_autoindex_django_session_1', 'django_session', 39, None),\n",
       " ('index', 'django_session_expire_date_a5c62663', 'django_session', 41, 'CREATE INDEX \"django_session_expire_date_a5c62663\" ON \"django_session\" (\"expire_date\")')]"
      ]
     },
     "execution_count": 3,
     "metadata": {},
     "output_type": "execute_result"
    }
   ],
   "source": [
    "%sql select * from sqlite_master"
   ]
  },
  {
   "cell_type": "code",
   "execution_count": 4,
   "metadata": {},
   "outputs": [
    {
     "data": {
      "text/plain": [
       "'/Users/loi/MEGA/Courses/2020_CSCI_S-33a_Web_Python_JS/proj2_commerce'"
      ]
     },
     "execution_count": 4,
     "metadata": {},
     "output_type": "execute_result"
    }
   ],
   "source": [
    "import os\n",
    "os.getcwd() "
   ]
  },
  {
   "cell_type": "code",
   "execution_count": 14,
   "metadata": {},
   "outputs": [
    {
     "name": "stdout",
     "output_type": "stream",
     "text": [
      " * sqlite:///db.sqlite3\n",
      "Done.\n"
     ]
    },
    {
     "data": {
      "text/html": [
       "<table>\n",
       "    <tr>\n",
       "        <th>id</th>\n",
       "        <th>password</th>\n",
       "        <th>last_login</th>\n",
       "        <th>is_superuser</th>\n",
       "        <th>username</th>\n",
       "        <th>first_name</th>\n",
       "        <th>last_name</th>\n",
       "        <th>email</th>\n",
       "        <th>is_staff</th>\n",
       "        <th>is_active</th>\n",
       "        <th>date_joined</th>\n",
       "    </tr>\n",
       "    <tr>\n",
       "        <td>1</td>\n",
       "        <td>pbkdf2_sha256$180000$hyR2Rw1ZIJYz$qRcRbcTvJixEe5H+2053/s1h52qbqhBcAgfWKq4a6yE=</td>\n",
       "        <td>2020-07-10 19:16:49.989843</td>\n",
       "        <td>0</td>\n",
       "        <td>byu</td>\n",
       "        <td></td>\n",
       "        <td></td>\n",
       "        <td>bb@yu</td>\n",
       "        <td>0</td>\n",
       "        <td>1</td>\n",
       "        <td>2020-07-10 17:38:01.173968</td>\n",
       "    </tr>\n",
       "</table>"
      ],
      "text/plain": [
       "[(1, 'pbkdf2_sha256$180000$hyR2Rw1ZIJYz$qRcRbcTvJixEe5H+2053/s1h52qbqhBcAgfWKq4a6yE=', '2020-07-10 19:16:49.989843', 0, 'byu', '', '', 'bb@yu', 0, 1, '2020-07-10 17:38:01.173968')]"
      ]
     },
     "execution_count": 14,
     "metadata": {},
     "output_type": "execute_result"
    }
   ],
   "source": [
    "%sql select * from auctions_user"
   ]
  },
  {
   "cell_type": "code",
   "execution_count": 15,
   "metadata": {},
   "outputs": [],
   "source": [
    "#%sql delete from auctions_user"
   ]
  },
  {
   "cell_type": "code",
   "execution_count": 16,
   "metadata": {},
   "outputs": [
    {
     "name": "stdout",
     "output_type": "stream",
     "text": [
      " * sqlite:///db.sqlite3\n",
      "Done.\n"
     ]
    },
    {
     "data": {
      "text/html": [
       "<table>\n",
       "    <tr>\n",
       "        <th>id</th>\n",
       "        <th>bid_amount</th>\n",
       "        <th>n_bids</th>\n",
       "        <th>bidder_id</th>\n",
       "        <th>item_number_id</th>\n",
       "    </tr>\n",
       "</table>"
      ],
      "text/plain": [
       "[]"
      ]
     },
     "execution_count": 16,
     "metadata": {},
     "output_type": "execute_result"
    }
   ],
   "source": [
    "%sql select * from auctions_bid"
   ]
  },
  {
   "cell_type": "code",
   "execution_count": 17,
   "metadata": {},
   "outputs": [
    {
     "name": "stdout",
     "output_type": "stream",
     "text": [
      " * sqlite:///db.sqlite3\n",
      "Done.\n"
     ]
    },
    {
     "data": {
      "text/html": [
       "<table>\n",
       "    <tr>\n",
       "        <th>id</th>\n",
       "        <th>comment</th>\n",
       "        <th>commenter_id</th>\n",
       "        <th>item_number_id</th>\n",
       "    </tr>\n",
       "</table>"
      ],
      "text/plain": [
       "[]"
      ]
     },
     "execution_count": 17,
     "metadata": {},
     "output_type": "execute_result"
    }
   ],
   "source": [
    "%sql select * from auctions_comment"
   ]
  },
  {
   "cell_type": "code",
   "execution_count": 18,
   "metadata": {},
   "outputs": [
    {
     "name": "stdout",
     "output_type": "stream",
     "text": [
      " * sqlite:///db.sqlite3\n",
      "Done.\n"
     ]
    },
    {
     "data": {
      "text/html": [
       "<table>\n",
       "    <tr>\n",
       "        <th>id</th>\n",
       "        <th>title</th>\n",
       "        <th>description</th>\n",
       "        <th>image_url</th>\n",
       "        <th>is_active</th>\n",
       "        <th>starting_bid</th>\n",
       "        <th>current_bid</th>\n",
       "        <th>seller_id</th>\n",
       "    </tr>\n",
       "    <tr>\n",
       "        <td>1</td>\n",
       "        <td>a</td>\n",
       "        <td>s</td>\n",
       "        <td>d</td>\n",
       "        <td>1</td>\n",
       "        <td>10</td>\n",
       "        <td>10</td>\n",
       "        <td>1</td>\n",
       "    </tr>\n",
       "</table>"
      ],
      "text/plain": [
       "[(1, 'a', 's', 'd', 1, 10, 10, 1)]"
      ]
     },
     "execution_count": 18,
     "metadata": {},
     "output_type": "execute_result"
    }
   ],
   "source": [
    "%sql select * from auctions_listing"
   ]
  },
  {
   "cell_type": "code",
   "execution_count": null,
   "metadata": {},
   "outputs": [],
   "source": []
  },
  {
   "cell_type": "code",
   "execution_count": null,
   "metadata": {},
   "outputs": [],
   "source": []
  },
  {
   "cell_type": "code",
   "execution_count": null,
   "metadata": {},
   "outputs": [],
   "source": []
  }
 ],
 "metadata": {
  "kernelspec": {
   "display_name": "Python 3",
   "language": "python",
   "name": "python3"
  },
  "language_info": {
   "codemirror_mode": {
    "name": "ipython",
    "version": 3
   },
   "file_extension": ".py",
   "mimetype": "text/x-python",
   "name": "python",
   "nbconvert_exporter": "python",
   "pygments_lexer": "ipython3",
   "version": "3.7.6"
  }
 },
 "nbformat": 4,
 "nbformat_minor": 4
}
